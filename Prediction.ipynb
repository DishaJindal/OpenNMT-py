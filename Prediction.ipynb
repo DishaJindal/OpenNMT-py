{
 "cells": [
  {
   "cell_type": "code",
   "execution_count": 61,
   "metadata": {
    "scrolled": true
   },
   "outputs": [
    {
     "name": "stdout",
     "output_type": "stream",
     "text": [
      "Collecting git+https://github.com/pytorch/text.git@master#wheel=torchtext (from -r requirements.txt (line 4))\n",
      "  Cloning https://github.com/pytorch/text.git (to revision master) to /tmp/pip-req-build-o5e95e4o\n",
      "Requirement already satisfied (use --upgrade to upgrade): torchtext==0.4.0 from git+https://github.com/pytorch/text.git@master#wheel=torchtext in /home/djjindal/venvs/TF-1.3/lib/python3.6/site-packages (from -r requirements.txt (line 4))\n",
      "Requirement already satisfied: six in /home/djjindal/venvs/TF-1.3/lib/python3.6/site-packages (from -r requirements.txt (line 1)) (1.12.0)\n",
      "Requirement already satisfied: tqdm==4.30.* in /home/djjindal/venvs/TF-1.3/lib/python3.6/site-packages (from -r requirements.txt (line 2)) (4.30.0)\n",
      "Requirement already satisfied: torch>=1.0 in /home/djjindal/venvs/TF-1.3/lib/python3.6/site-packages (from -r requirements.txt (line 3)) (1.0.1.post2)\n",
      "Requirement already satisfied: future in /home/djjindal/venvs/TF-1.3/lib/python3.6/site-packages (from -r requirements.txt (line 5)) (0.17.1)\n",
      "Requirement already satisfied: configargparse in /home/djjindal/venvs/TF-1.3/lib/python3.6/site-packages (from -r requirements.txt (line 6)) (0.14.0)\n",
      "Requirement already satisfied: ipdb in /home/djjindal/venvs/TF-1.3/lib/python3.6/site-packages (from -r requirements.txt (line 7)) (0.12)\n",
      "Requirement already satisfied: requests in /home/djjindal/venvs/TF-1.3/lib/python3.6/site-packages (from torchtext==0.4.0->-r requirements.txt (line 4)) (2.21.0)\n",
      "Requirement already satisfied: numpy in /home/djjindal/venvs/TF-1.3/lib/python3.6/site-packages (from torchtext==0.4.0->-r requirements.txt (line 4)) (1.16.2)\n",
      "Requirement already satisfied: ipython>=5.1.0; python_version >= \"3.4\" in /home/djjindal/venvs/TF-1.3/lib/python3.6/site-packages (from ipdb->-r requirements.txt (line 7)) (7.4.0)\n",
      "Requirement already satisfied: setuptools in /home/djjindal/venvs/TF-1.3/lib/python3.6/site-packages (from ipdb->-r requirements.txt (line 7)) (41.0.0)\n",
      "Requirement already satisfied: certifi>=2017.4.17 in /home/djjindal/venvs/TF-1.3/lib/python3.6/site-packages (from requests->torchtext==0.4.0->-r requirements.txt (line 4)) (2019.3.9)\n",
      "Requirement already satisfied: urllib3<1.25,>=1.21.1 in /home/djjindal/venvs/TF-1.3/lib/python3.6/site-packages (from requests->torchtext==0.4.0->-r requirements.txt (line 4)) (1.24.2)\n",
      "Requirement already satisfied: idna<2.9,>=2.5 in /home/djjindal/venvs/TF-1.3/lib/python3.6/site-packages (from requests->torchtext==0.4.0->-r requirements.txt (line 4)) (2.8)\n",
      "Requirement already satisfied: chardet<3.1.0,>=3.0.2 in /home/djjindal/venvs/TF-1.3/lib/python3.6/site-packages (from requests->torchtext==0.4.0->-r requirements.txt (line 4)) (3.0.4)\n",
      "Requirement already satisfied: decorator in /home/djjindal/venvs/TF-1.3/lib/python3.6/site-packages (from ipython>=5.1.0; python_version >= \"3.4\"->ipdb->-r requirements.txt (line 7)) (4.4.0)\n",
      "Requirement already satisfied: traitlets>=4.2 in /home/djjindal/venvs/TF-1.3/lib/python3.6/site-packages (from ipython>=5.1.0; python_version >= \"3.4\"->ipdb->-r requirements.txt (line 7)) (4.3.2)\n",
      "Requirement already satisfied: prompt-toolkit<2.1.0,>=2.0.0 in /home/djjindal/venvs/TF-1.3/lib/python3.6/site-packages (from ipython>=5.1.0; python_version >= \"3.4\"->ipdb->-r requirements.txt (line 7)) (2.0.9)\n",
      "Requirement already satisfied: pygments in /home/djjindal/venvs/TF-1.3/lib/python3.6/site-packages (from ipython>=5.1.0; python_version >= \"3.4\"->ipdb->-r requirements.txt (line 7)) (2.3.1)\n",
      "Requirement already satisfied: pexpect; sys_platform != \"win32\" in /home/djjindal/venvs/TF-1.3/lib/python3.6/site-packages (from ipython>=5.1.0; python_version >= \"3.4\"->ipdb->-r requirements.txt (line 7)) (4.7.0)\n",
      "Requirement already satisfied: pickleshare in /home/djjindal/venvs/TF-1.3/lib/python3.6/site-packages (from ipython>=5.1.0; python_version >= \"3.4\"->ipdb->-r requirements.txt (line 7)) (0.7.5)\n",
      "Requirement already satisfied: jedi>=0.10 in /home/djjindal/venvs/TF-1.3/lib/python3.6/site-packages (from ipython>=5.1.0; python_version >= \"3.4\"->ipdb->-r requirements.txt (line 7)) (0.13.3)\n",
      "Requirement already satisfied: backcall in /home/djjindal/venvs/TF-1.3/lib/python3.6/site-packages (from ipython>=5.1.0; python_version >= \"3.4\"->ipdb->-r requirements.txt (line 7)) (0.1.0)\n",
      "Requirement already satisfied: ipython-genutils in /home/djjindal/venvs/TF-1.3/lib/python3.6/site-packages (from traitlets>=4.2->ipython>=5.1.0; python_version >= \"3.4\"->ipdb->-r requirements.txt (line 7)) (0.2.0)\n",
      "Requirement already satisfied: wcwidth in /home/djjindal/venvs/TF-1.3/lib/python3.6/site-packages (from prompt-toolkit<2.1.0,>=2.0.0->ipython>=5.1.0; python_version >= \"3.4\"->ipdb->-r requirements.txt (line 7)) (0.1.7)\n",
      "Requirement already satisfied: ptyprocess>=0.5 in /home/djjindal/venvs/TF-1.3/lib/python3.6/site-packages (from pexpect; sys_platform != \"win32\"->ipython>=5.1.0; python_version >= \"3.4\"->ipdb->-r requirements.txt (line 7)) (0.6.0)\n",
      "Requirement already satisfied: parso>=0.3.0 in /home/djjindal/venvs/TF-1.3/lib/python3.6/site-packages (from jedi>=0.10->ipython>=5.1.0; python_version >= \"3.4\"->ipdb->-r requirements.txt (line 7)) (0.4.0)\n",
      "Building wheels for collected packages: torchtext\n",
      "  Building wheel for torchtext (setup.py) ... \u001b[?25ldone\n",
      "\u001b[?25h  Stored in directory: /tmp/pip-ephem-wheel-cache-t7fl4io7/wheels/47/f9/8d/a9e397ec2629a3fd3219b2ebc3ec8b55396fd3cf55963a77a5\n",
      "Successfully built torchtext\n"
     ]
    }
   ],
   "source": [
    "!pip install -r requirements.txt"
   ]
  },
  {
   "cell_type": "markdown",
   "metadata": {},
   "source": [
    "# Simple Relabeling"
   ]
  },
  {
   "cell_type": "markdown",
   "metadata": {},
   "source": [
    "##  INPUT | OUPUT | SEQ "
   ]
  },
  {
   "cell_type": "code",
   "execution_count": 134,
   "metadata": {
    "scrolled": true
   },
   "outputs": [
    {
     "name": "stdout",
     "output_type": "stream",
     "text": [
      "INPUT\n",
      "201 0 213 9 212 3 106 1 211 7 48 3 210 9 164 0 209 5 53 7 208 0 206 2 207\n",
      "59 0 243 8 128 5 242 7 241 0 95 5 220 7 163 7 124 6 240 7 239 4 82 7 180 2 231 8 238 3 31\n",
      "243 9 20 9 99 9 242 3 239 4 241 7 52 9 64 8 240 2 206\n",
      "188 7 236 3 69 2 235 3 0 9 234 1 206 4 89 6 5 7 233\n",
      "------------------------------------------------------------------------------------------------------------\n",
      "\n",
      "OUTPUT\n",
      "201 0 213 90 212 3 106 8 211 70 48 3 210 90 164 0 209 8 53 70 208 0 206 3 207\n",
      "59 0 243 18 128 8 242 70 241 0 95 8 220 70 163 70 124 16 240 70 239 40 82 70 180 3 231 18 238 3 31\n",
      "243 90 20 90 99 90 242 3 239 40 241 70 52 90 64 18 240 3 206\n",
      "188 70 236 3 69 3 235 3 0 90 234 8 206 40 89 16 5 70 233\n",
      "------------------------------------------------------------------------------------------------------------\n",
      "\n",
      "SEQ\n",
      "[2019-04-25 17:35:16,648 INFO] Translating shard 0.\n",
      "PRED AVG SCORE: -0.0002, PRED PPL: 1.0002\n",
      "Total translation time (s): 0.229947\n",
      "Average translation time (s): 0.057487\n",
      "Tokens per second: 408.790115\n",
      "------------------------------------------------------------------------------------------------------------\n",
      "\n",
      "BLEU\n",
      "BLEU = 100.00, 100.0/100.0/100.0/100.0 (BP=1.000, ratio=1.000, hyp_len=94, ref_len=94)\n"
     ]
    }
   ],
   "source": [
    "print(\"INPUT\")\n",
    "!cat IntrinsicTasks/translate_simple_relabel.txt\n",
    "print(\"------------------------------------------------------------------------------------------------------------\")\n",
    "print()\n",
    "print(\"OUTPUT\")\n",
    "!cat IntrinsicTasks/translate_simple_out.txt \n",
    "print(\"------------------------------------------------------------------------------------------------------------\")\n",
    "print()\n",
    "print(\"SEQ\")\n",
    "!python translate.py --model IntrinsicTasks/Task1_Seq/model_step_5000.pt --src IntrinsicTasks/translate_simple_relabel.txt --report_time --out Predictions/simple_seq.txt\n",
    "print(\"------------------------------------------------------------------------------------------------------------\")\n",
    "print()\n",
    "print(\"BLEU\")\n",
    "!perl tools/multi-bleu.perl IntrinsicTasks/translate_simple_out.txt < Predictions/simple_seq.txt\n"
   ]
  },
  {
   "cell_type": "markdown",
   "metadata": {},
   "source": [
    "# Deletion"
   ]
  },
  {
   "cell_type": "markdown",
   "metadata": {},
   "source": [
    "## INPUT | OUTPUT | SEQ"
   ]
  },
  {
   "cell_type": "code",
   "execution_count": 128,
   "metadata": {},
   "outputs": [
    {
     "name": "stdout",
     "output_type": "stream",
     "text": [
      "INPUT\n",
      "59 0 243 8 128 5 242 7 241 0 95 5 220 7 163 7 124 6 240 7 239 4 82 7 180 2 231 8 238 3 31\n",
      "188 7 236 3 69 2 235 3 0 9 234 1 206 4 89 6 5 7 233\n",
      "237 3 12 0 238 5 236 5 235 4 30 9 234 6 233 9 231 7 232 0 82\n",
      "48 2 223 8 219 8 222 7 221 6 203 5 166 7 220 4 127\n",
      "------------------------------------------------------------------------------------------------------------\n",
      "\n",
      "OUTPUT\n",
      "128 5 7 8 0 95 5 7 7\n",
      "89 6 5 7 4 2\n",
      "237 3 12 0 238 5 5\n",
      "222 8 7 8\n",
      "------------------------------------------------------------------------------------------------------------\n",
      "\n",
      "SEQ\n",
      "[2019-04-25 17:20:59,909 INFO] Translating shard 0.\n",
      "PRED AVG SCORE: -0.4277, PRED PPL: 1.5338\n",
      "Total translation time (s): 0.094202\n",
      "Average translation time (s): 0.023551\n",
      "Tokens per second: 212.309624\n",
      "------------------------------------------------------------------------------------------------------------\n",
      "\n",
      "BLEU = 56.51, 100.0/81.2/66.7/62.5 (BP=0.741, ratio=0.769, hyp_len=20, ref_len=26)\n"
     ]
    }
   ],
   "source": [
    "print(\"INPUT\")\n",
    "!cat IntrinsicTasks/translate_deletion.txt\n",
    "print(\"------------------------------------------------------------------------------------------------------------\")\n",
    "print()\n",
    "print(\"OUTPUT\")\n",
    "!cat IntrinsicTasks/translate_deletion_out.txt \n",
    "print(\"------------------------------------------------------------------------------------------------------------\")\n",
    "print()\n",
    "print(\"SEQ\")\n",
    "!python translate.py --model IntrinsicTasks/Task4_Seq/model_step_10000.pt --src IntrinsicTasks/translate_deletion.txt --report_time --out Predictions/deletion_seq.txt\n",
    "print(\"------------------------------------------------------------------------------------------------------------\")\n",
    "print()\n",
    "!perl tools/multi-bleu.perl IntrinsicTasks/translate_deletion_out.txt < Predictions/deletion_seq.txt "
   ]
  },
  {
   "cell_type": "markdown",
   "metadata": {},
   "source": [
    "## Transformer Simple | Deletion  "
   ]
  },
  {
   "cell_type": "code",
   "execution_count": 148,
   "metadata": {},
   "outputs": [
    {
     "name": "stdout",
     "output_type": "stream",
     "text": [
      "[2019-04-25 18:49:07,629 INFO] Translating shard 0.\n",
      "Init Cache\n",
      "\n",
      "SENT 1: ['201', '0', '213', '9', '212', '3', '106', '1', '211', '7', '48', '3', '210', '9', '164', '0', '209', '5', '53', '7', '208', '0', '206', '2', '207']\n",
      "PRED 1: 201 0 0\n",
      "PRED SCORE: -10.9698\n",
      "GOLD 1: 201 0 213 90 212 3 106 8 211 70 48 3 210 90 164 0 209 8 53 70 208 0 206 3 207\n",
      "GOLD SCORE: -605.9310\n",
      "\n",
      "SENT 2: ['59', '0', '243', '8', '128', '5', '242', '7', '241', '0', '95', '5', '220', '7', '163', '7', '124', '6', '240', '7', '239', '4', '82', '7', '180', '2', '231', '8', '238', '3', '31']\n",
      "PRED 2: 59 0 0 0 0 0 0 0 0 243 0 243 0 243 0 243 0 243 0 243 0 243 0 243 0 243 0 243 0 243 0 243 0 243 0 243 0 243 0 243 0 243 0 243 0 243 0 243 0 243 0 243 0 243 0 243 0 243 0 243 0 243 0 243 0 243 0 243 0 243 0 243 0 243 0 243 0 243 0 243 0 243 0 243 0 243 0 243 0 243 0 243 0 243 0 243 0 243 0 243\n",
      "PRED SCORE: -4.7860\n",
      "GOLD 2: 59 0 243 18 128 8 242 70 241 0 95 8 220 70 163 70 124 16 240 70 239 40 82 70 180 3 231 18 238 3 31\n",
      "GOLD SCORE: -709.0451\n",
      "\n",
      "SENT 3: ['243', '9', '20', '9', '99', '9', '242', '3', '239', '4', '241', '7', '52', '9', '64', '8', '240', '2', '206']\n",
      "PRED 3: 243 90 20 90 20 90 20 90 20 90 20 90 20 90 20 90 20 90 20 90 20 90 20 90 20 90 20 90 20 90 20 90 20 90 20 90 20 90 20 90 20 90 20 90 20 90 20 90 20 90 20 90 20 90 20 90 20 90 20 90 20 90 20 90 20 90 20 90 20 90 20 90 20 90 20 90 20 90 20 90 20 90 20 90 20 90 20 90 20 90 20 90 20 90 20 90 20 90 20 90\n",
      "PRED SCORE: -2.6104\n",
      "GOLD 3: 243 90 20 90 99 90 242 3 239 40 241 70 52 90 64 18 240 3 206\n",
      "GOLD SCORE: -515.1376\n",
      "\n",
      "SENT 4: ['188', '7', '236', '3', '69', '2', '235', '3', '0', '9', '234', '1', '206', '4', '89', '6', '5', '7', '233']\n",
      "PRED 4: 188 70 70 70 70 70 70 70 70 70 70 70 70 70 70 70 70 70 70 70 70 70 70 70 70 70 70 70 70 70 70 70 70 70 70 70 70 70 70 70 70 70 70 70 70 70 70 70 70 70 70 70 70 70 70 70 70 70 70 70 70 70 70 70 70 70 70 70 70 70 70 70 70 70 70 70 70 70 70 70 70 70 70 70 70 70 70 70 70 70 70 70 70 70 70 70 70 70 70 70\n",
      "PRED SCORE: -4.2734\n",
      "GOLD 4: 188 70 236 3 69 3 235 3 0 90 234 8 206 40 89 16 5 70 233\n",
      "GOLD SCORE: -477.5386\n",
      "PRED AVG SCORE: -0.0747, PRED PPL: 1.0776\n",
      "GOLD AVG SCORE: -23.5475, GOLD PPL: 16847565458.3494\n",
      "------------------------------------------------------------------------------------------------------------\n",
      "\n",
      "BLEU = 1.30, 5.3/2.3/0.7/0.3 (BP=1.000, ratio=3.223, hyp_len=303, ref_len=94)\n"
     ]
    }
   ],
   "source": [
    "!python translate.py --model IntrinsicTasks/Task1_Trans/model3_step_10000.pt --src IntrinsicTasks/translate_simple_relabel.txt --tgt IntrinsicTasks/translate_simple_out.txt --beam_size 100 --verbose --out Predictions/simple_trans.txt\n",
    "print(\"------------------------------------------------------------------------------------------------------------\")\n",
    "print()\n",
    "!perl tools/multi-bleu.perl IntrinsicTasks/translate_simple_out.txt < Predictions/simple_trans.txt \n",
    "# print(\"------------------------------------------------------------------------------------------------------------\")\n",
    "# print()\n",
    "# !python translate.py --model IntrinsicTasks/Task4_Trans/model_step_25000.pt --src IntrinsicTasks/translate_deletion.txt --report_time --out Predictions/deletion_trans.txt\n",
    "# print(\"------------------------------------------------------------------------------------------------------------\")\n",
    "# print()\n",
    "# !perl tools/multi-bleu.perl IntrinsicTasks/translate_deletion_out.txt < Predictions/deletion_trans.txt \n"
   ]
  },
  {
   "cell_type": "code",
   "execution_count": 113,
   "metadata": {},
   "outputs": [],
   "source": [
    "# !python translate.py --model IntrinsicTasks/Task1_Our/model_step_50000.pt --src IntrinsicTasks/translate_simple_relabel_gorn.txt --verbose --src_gorn_position_encoding"
   ]
  },
  {
   "cell_type": "code",
   "execution_count": 66,
   "metadata": {},
   "outputs": [],
   "source": [
    "# !pip install zss\n",
    "# !pip install nltk\n",
    "# !pip install pythonds\n",
    "# import importlib\n",
    "# import binary_tree\n",
    "# import create_tree\n",
    "# importlib.reload(create_tree)\n",
    "# importlib.reload(binary_tree)\n",
    "# from binary_tree import *\n",
    "# from create_tree import *\n",
    "# from nltk import Tree\n",
    "# from zss import simple_distance\n",
    "# line = \"(201 0 213 90 212 3 106 8 211 70 48 3 210 90 164 0 209 8 53 70 208 0 206 3 207)\"\n",
    "# line = line.strip()\n",
    "# nltk_tree = Tree.fromstring(line)\n",
    "# #nltk_tree.pretty_print()\n",
    "# my_tree = Node(0)\n",
    "# convert_nltk_tree_to_binarytree(nltk_tree, my_tree)\n",
    "# pprint(my_tree)\n",
    "\n",
    "\n",
    "# # print(simple_distance((), (), Node.get_children, Node.get_label))"
   ]
  },
  {
   "cell_type": "code",
   "execution_count": null,
   "metadata": {},
   "outputs": [],
   "source": []
  }
 ],
 "metadata": {
  "kernelspec": {
   "display_name": "Python 3",
   "language": "python",
   "name": "python3"
  },
  "language_info": {
   "codemirror_mode": {
    "name": "ipython",
    "version": 3
   },
   "file_extension": ".py",
   "mimetype": "text/x-python",
   "name": "python",
   "nbconvert_exporter": "python",
   "pygments_lexer": "ipython3",
   "version": "3.6.4"
  }
 },
 "nbformat": 4,
 "nbformat_minor": 2
}
